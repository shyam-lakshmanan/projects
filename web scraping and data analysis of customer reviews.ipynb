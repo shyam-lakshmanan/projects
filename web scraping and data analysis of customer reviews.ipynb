{
 "cells": [
  {
   "cell_type": "markdown",
   "id": "551a20e9-3492-45da-99c7-34241f0d37c8",
   "metadata": {},
   "source": [
    "# WEB SCRAPPING"
   ]
  },
  {
   "cell_type": "code",
   "execution_count": null,
   "id": "260929bf-dbb3-49a2-800f-41dde57b1d23",
   "metadata": {},
   "outputs": [],
   "source": [
    "\n",
    "import pandas as pd #for convert into dataframe\n",
    "from bs4 import BeautifulSoup #for scrao a desired data from html page\n",
    "from selenium import webdriver #for get a html source page\n",
    "\n",
    "# Set up the Selenium WebDriver (e.g., Chrome)\n",
    "driver = webdriver.Chrome()\n",
    "base_url = \"https://www.flipkart.com/apple-iphone-15-blue-128-gb/product-reviews/itmbf14ef54f645d?pid=MOBGTAGPAQNVFZZY&lid=LSTMOBGTAGPAQNVFZZY7RHDU7&marketplace=FLIPKART\"\n",
    "\n",
    "# Initialize lists to store data\n",
    "titles =[] \n",
    "ratings =[]\n",
    "reviews =[]\n",
    "cities =[]\n",
    "names =[]\n",
    "dates =[]\n",
    "likes =[]\n",
    "dislikes =[]\n",
    "for page in range(1, 395):  # Adjust the range as needed\n",
    "    # Load the webpage\n",
    "    driver.get(f\"{base_url}&page={page}\")\n",
    "\n",
    "    # Get the full HTML code\n",
    "    html = driver.page_source\n",
    "\n",
    "    # Parse the HTML with BeautifulSoup\n",
    "    bs = BeautifulSoup(html, \"html.parser\")\n",
    "\n",
    "    # Scrape the desired data\n",
    "    content = bs.find_all(\"p\", class_=\"z9E0IG\")\n",
    "    titles.extend([element.get_text() for element in content])\n",
    "\n",
    "    name = bs.find_all(\"p\", class_=\"_2NsDsF AwS1CA\")\n",
    "    names.extend([na.get_text() for na in name])\n",
    "    \n",
    "    rating = bs.find_all(\"div\", class_=\"XQDdHH Ga3i8K\")\n",
    "    ratings.extend([rate.get_text() for rate in rating])\n",
    "    \n",
    "    review = bs.find_all(\"div\", class_=\"ZmyHeo\")\n",
    "    reviews.extend([rev.get_text().replace(\"READ MORE\",\"\").strip() for rev in review])\n",
    "    \n",
    "    city = bs.find_all(\"p\", class_=\"MztJPv\")\n",
    "    cities.extend([cit.find_all('span')[1].get_text().split().pop(1) for cit in city])\n",
    "\n",
    "    date = bs.find_all(\"p\", class_=\"_2NsDsF\")\n",
    "    dates.extend([dat.get_text() for dat in date])\n",
    "\n",
    "    like = bs.find_all('div', class_=\"_6kK6mk\")\n",
    "    likes.extend(lik.get_text() for lik in like)\n",
    "    \n",
    "    dislike = bs.find_all('div', class_=\"_6kK6mk\")\n",
    "    dislikes.extend(dis.get_text() for dis in dislike)\n",
    "\n",
    "# Extract likes and dislikes correctly\n",
    "like = likes[::2]\n",
    "dislike = dislikes[1::2]\n",
    "dates_only = [dates[i] for i in range(len(dates)) if i % 2 == 1]\n",
    "\n",
    "# Ensure all lists have the same length\n",
    "min_length = min(len(names), len(ratings), len(titles), len(cities), len(dates_only), len(reviews), len(like), len(dislike))\n",
    "\n",
    "\n",
    "names = names[:min_length]\n",
    "ratings = ratings[:min_length]\n",
    "titles = titles[:min_length]\n",
    "cities = cities[:min_length]\n",
    "dates_only = dates_only[:min_length]\n",
    "reviews = reviews[:min_length]\n",
    "like = like[:min_length]\n",
    "dislike = dislike[:min_length]\n",
    "\n",
    "# Close the browser\n",
    "driver.quit()\n",
    "\n",
    "# Create a DataFrame\n",
    "df1 = pd.DataFrame({\n",
    "    \"Names\": names,\n",
    "    \"Rating\": ratings,\n",
    "    \"Titles\": titles,\n",
    "    \"Cities\": cities,\n",
    "    \"Dates\": dates_only,\n",
    "    \"Reviews\": reviews,\n",
    "    \"Likes\": like,\n",
    "    \"Dislikes\": dislike\n",
    "})\n",
    "\n",
    "print(df1)\n",
    "df1.to_csv(\"Iphone 15 blue flipkart_customers_reviews(Web Srapping).csv\", index=False)\n"
   ]
  },
  {
   "cell_type": "markdown",
   "id": "0a341d7b-697d-49c3-96f8-e845579b1877",
   "metadata": {},
   "source": [
    "# LOAD AND CLEAN DATA:"
   ]
  },
  {
   "cell_type": "markdown",
   "id": "2448a1f5-ee03-49c7-9465-cb3d4131fb5c",
   "metadata": {},
   "source": [
    "LOAD TO DATAFRAME:"
   ]
  },
  {
   "cell_type": "code",
   "execution_count": 3,
   "id": "2092b183-8dc7-4dda-8af2-cd218f1a50a0",
   "metadata": {},
   "outputs": [],
   "source": [
    "import pandas as pd\n",
    "import matplotlib.pyplot as plt\n",
    "df=pd.read_csv(\"Iphone 15 blue flipkart_customers_reviews(Web Srapping).csv\")\n"
   ]
  },
  {
   "cell_type": "code",
   "execution_count": 4,
   "id": "7da255fc-9da9-4f6d-aec3-c9a03a5ae35b",
   "metadata": {},
   "outputs": [
    {
     "name": "stdout",
     "output_type": "stream",
     "text": [
      "<class 'pandas.core.frame.DataFrame'>\n",
      "RangeIndex: 214 entries, 0 to 213\n",
      "Data columns (total 8 columns):\n",
      " #   Column    Non-Null Count  Dtype \n",
      "---  ------    --------------  ----- \n",
      " 0   Names     214 non-null    object\n",
      " 1   Rating    214 non-null    int64 \n",
      " 2   Titles    214 non-null    object\n",
      " 3   Cities    214 non-null    object\n",
      " 4   Dates     214 non-null    object\n",
      " 5   Reviews   214 non-null    object\n",
      " 6   Likes     214 non-null    int64 \n",
      " 7   Dislikes  214 non-null    int64 \n",
      "dtypes: int64(3), object(5)\n",
      "memory usage: 13.5+ KB\n"
     ]
    }
   ],
   "source": [
    "#Information About The Data Set:\n",
    "df.info()"
   ]
  },
  {
   "cell_type": "code",
   "execution_count": 4,
   "id": "651abb67-9a04-495f-9eca-d16013dc7e8f",
   "metadata": {},
   "outputs": [
    {
     "data": {
      "text/plain": [
       "(214, 8)"
      ]
     },
     "execution_count": 4,
     "metadata": {},
     "output_type": "execute_result"
    }
   ],
   "source": [
    "#To Check How Many Rows And Columns In A Data Set:\n",
    "df.shape"
   ]
  },
  {
   "cell_type": "code",
   "execution_count": 5,
   "id": "a044ca5e-4bba-40df-abc8-a3fe948656a4",
   "metadata": {},
   "outputs": [
    {
     "name": "stdout",
     "output_type": "stream",
     "text": [
      "7\n"
     ]
    }
   ],
   "source": [
    "#To Check IS There Any Duplicates in a Data Set And Remove A Duplicates:\n",
    "print(df.duplicated().sum())\n"
   ]
  },
  {
   "cell_type": "code",
   "execution_count": 6,
   "id": "e620eaaf-fafe-4ace-912d-92c55dfc63ec",
   "metadata": {},
   "outputs": [],
   "source": [
    "df.drop_duplicates(inplace=True)"
   ]
  },
  {
   "cell_type": "code",
   "execution_count": 7,
   "id": "ff1f50c7-eb9b-4e56-9dca-139cdfb3fb55",
   "metadata": {},
   "outputs": [
    {
     "data": {
      "text/plain": [
       "Names       0\n",
       "Rating      0\n",
       "Titles      0\n",
       "Cities      0\n",
       "Dates       0\n",
       "Reviews     0\n",
       "Likes       0\n",
       "Dislikes    0\n",
       "dtype: int64"
      ]
     },
     "execution_count": 7,
     "metadata": {},
     "output_type": "execute_result"
    }
   ],
   "source": [
    "#To Check Is There Any Null Values In The Dataset:\n",
    "df.isnull().sum()"
   ]
  },
  {
   "cell_type": "markdown",
   "id": "29af3e96-4cba-4266-a7db-4e06e9407b26",
   "metadata": {},
   "source": [
    "#To Convert All Reviews To Lower Case:"
   ]
  },
  {
   "cell_type": "code",
   "execution_count": 8,
   "id": "3fb2e49c-67d1-414c-b9ee-b22b5109d023",
   "metadata": {},
   "outputs": [
    {
     "data": {
      "text/html": [
       "<div>\n",
       "<style scoped>\n",
       "    .dataframe tbody tr th:only-of-type {\n",
       "        vertical-align: middle;\n",
       "    }\n",
       "\n",
       "    .dataframe tbody tr th {\n",
       "        vertical-align: top;\n",
       "    }\n",
       "\n",
       "    .dataframe thead th {\n",
       "        text-align: right;\n",
       "    }\n",
       "</style>\n",
       "<table border=\"1\" class=\"dataframe\">\n",
       "  <thead>\n",
       "    <tr style=\"text-align: right;\">\n",
       "      <th></th>\n",
       "      <th>Names</th>\n",
       "      <th>Rating</th>\n",
       "      <th>Titles</th>\n",
       "      <th>Cities</th>\n",
       "      <th>Dates</th>\n",
       "      <th>Reviews</th>\n",
       "      <th>Likes</th>\n",
       "      <th>Dislikes</th>\n",
       "    </tr>\n",
       "  </thead>\n",
       "  <tbody>\n",
       "    <tr>\n",
       "      <th>0</th>\n",
       "      <td>Ajin V</td>\n",
       "      <td>5</td>\n",
       "      <td>Mind-blowing purchase</td>\n",
       "      <td>Balaghat</td>\n",
       "      <td>11 months ago</td>\n",
       "      <td>High quality camera😍</td>\n",
       "      <td>7431</td>\n",
       "      <td>1807</td>\n",
       "    </tr>\n",
       "    <tr>\n",
       "      <th>1</th>\n",
       "      <td>bijaya mohanty</td>\n",
       "      <td>5</td>\n",
       "      <td>Worth every penny</td>\n",
       "      <td>Baleshwar</td>\n",
       "      <td>4 months ago</td>\n",
       "      <td>Just go for it.Amazing one.Beautiful camera wi...</td>\n",
       "      <td>1174</td>\n",
       "      <td>264</td>\n",
       "    </tr>\n",
       "  </tbody>\n",
       "</table>\n",
       "</div>"
      ],
      "text/plain": [
       "            Names  Rating                 Titles     Cities          Dates  \\\n",
       "0          Ajin V       5  Mind-blowing purchase   Balaghat  11 months ago   \n",
       "1  bijaya mohanty       5      Worth every penny  Baleshwar   4 months ago   \n",
       "\n",
       "                                             Reviews  Likes  Dislikes  \n",
       "0                               High quality camera😍   7431      1807  \n",
       "1  Just go for it.Amazing one.Beautiful camera wi...   1174       264  "
      ]
     },
     "execution_count": 8,
     "metadata": {},
     "output_type": "execute_result"
    }
   ],
   "source": [
    "df.head(2)"
   ]
  },
  {
   "cell_type": "markdown",
   "id": "126d76a3-4790-4acd-96cf-2a4cee40539b",
   "metadata": {},
   "source": [
    "#Convert into lowercase"
   ]
  },
  {
   "cell_type": "code",
   "execution_count": 9,
   "id": "e5b396d8-e0e3-4add-b04b-9245c8acba93",
   "metadata": {},
   "outputs": [
    {
     "data": {
      "text/html": [
       "<div>\n",
       "<style scoped>\n",
       "    .dataframe tbody tr th:only-of-type {\n",
       "        vertical-align: middle;\n",
       "    }\n",
       "\n",
       "    .dataframe tbody tr th {\n",
       "        vertical-align: top;\n",
       "    }\n",
       "\n",
       "    .dataframe thead th {\n",
       "        text-align: right;\n",
       "    }\n",
       "</style>\n",
       "<table border=\"1\" class=\"dataframe\">\n",
       "  <thead>\n",
       "    <tr style=\"text-align: right;\">\n",
       "      <th></th>\n",
       "      <th>Names</th>\n",
       "      <th>Rating</th>\n",
       "      <th>Titles</th>\n",
       "      <th>Cities</th>\n",
       "      <th>Dates</th>\n",
       "      <th>Reviews</th>\n",
       "      <th>Likes</th>\n",
       "      <th>Dislikes</th>\n",
       "    </tr>\n",
       "  </thead>\n",
       "  <tbody>\n",
       "    <tr>\n",
       "      <th>0</th>\n",
       "      <td>Ajin V</td>\n",
       "      <td>5</td>\n",
       "      <td>Mind-blowing purchase</td>\n",
       "      <td>Balaghat</td>\n",
       "      <td>11 months ago</td>\n",
       "      <td>high quality camera😍</td>\n",
       "      <td>7431</td>\n",
       "      <td>1807</td>\n",
       "    </tr>\n",
       "    <tr>\n",
       "      <th>1</th>\n",
       "      <td>bijaya mohanty</td>\n",
       "      <td>5</td>\n",
       "      <td>Worth every penny</td>\n",
       "      <td>Baleshwar</td>\n",
       "      <td>4 months ago</td>\n",
       "      <td>just go for it.amazing one.beautiful camera wi...</td>\n",
       "      <td>1174</td>\n",
       "      <td>264</td>\n",
       "    </tr>\n",
       "  </tbody>\n",
       "</table>\n",
       "</div>"
      ],
      "text/plain": [
       "            Names  Rating                 Titles     Cities          Dates  \\\n",
       "0          Ajin V       5  Mind-blowing purchase   Balaghat  11 months ago   \n",
       "1  bijaya mohanty       5      Worth every penny  Baleshwar   4 months ago   \n",
       "\n",
       "                                             Reviews  Likes  Dislikes  \n",
       "0                               high quality camera😍   7431      1807  \n",
       "1  just go for it.amazing one.beautiful camera wi...   1174       264  "
      ]
     },
     "execution_count": 9,
     "metadata": {},
     "output_type": "execute_result"
    }
   ],
   "source": [
    "df[\"Reviews\"]=df[\"Reviews\"].apply(lambda txt:txt.lower())\n",
    "df.head(2)"
   ]
  },
  {
   "cell_type": "markdown",
   "id": "699c9689-6bac-4f07-9509-43cfc9bc0869",
   "metadata": {},
   "source": [
    "#Cleaning The Puntuations And A Emojis"
   ]
  },
  {
   "cell_type": "code",
   "execution_count": 10,
   "id": "389a3491-06ee-4195-b72f-0fa112e825ee",
   "metadata": {},
   "outputs": [
    {
     "data": {
      "text/html": [
       "<div>\n",
       "<style scoped>\n",
       "    .dataframe tbody tr th:only-of-type {\n",
       "        vertical-align: middle;\n",
       "    }\n",
       "\n",
       "    .dataframe tbody tr th {\n",
       "        vertical-align: top;\n",
       "    }\n",
       "\n",
       "    .dataframe thead th {\n",
       "        text-align: right;\n",
       "    }\n",
       "</style>\n",
       "<table border=\"1\" class=\"dataframe\">\n",
       "  <thead>\n",
       "    <tr style=\"text-align: right;\">\n",
       "      <th></th>\n",
       "      <th>Names</th>\n",
       "      <th>Rating</th>\n",
       "      <th>Titles</th>\n",
       "      <th>Cities</th>\n",
       "      <th>Dates</th>\n",
       "      <th>Reviews</th>\n",
       "      <th>Likes</th>\n",
       "      <th>Dislikes</th>\n",
       "    </tr>\n",
       "  </thead>\n",
       "  <tbody>\n",
       "    <tr>\n",
       "      <th>0</th>\n",
       "      <td>Ajin V</td>\n",
       "      <td>5</td>\n",
       "      <td>Mind-blowing purchase</td>\n",
       "      <td>Balaghat</td>\n",
       "      <td>11 months ago</td>\n",
       "      <td>high quality camera</td>\n",
       "      <td>7431</td>\n",
       "      <td>1807</td>\n",
       "    </tr>\n",
       "    <tr>\n",
       "      <th>1</th>\n",
       "      <td>bijaya mohanty</td>\n",
       "      <td>5</td>\n",
       "      <td>Worth every penny</td>\n",
       "      <td>Baleshwar</td>\n",
       "      <td>4 months ago</td>\n",
       "      <td>just go for itamazing onebeautiful camera with...</td>\n",
       "      <td>1174</td>\n",
       "      <td>264</td>\n",
       "    </tr>\n",
       "  </tbody>\n",
       "</table>\n",
       "</div>"
      ],
      "text/plain": [
       "            Names  Rating                 Titles     Cities          Dates  \\\n",
       "0          Ajin V       5  Mind-blowing purchase   Balaghat  11 months ago   \n",
       "1  bijaya mohanty       5      Worth every penny  Baleshwar   4 months ago   \n",
       "\n",
       "                                             Reviews  Likes  Dislikes  \n",
       "0                                high quality camera   7431      1807  \n",
       "1  just go for itamazing onebeautiful camera with...   1174       264  "
      ]
     },
     "execution_count": 10,
     "metadata": {},
     "output_type": "execute_result"
    }
   ],
   "source": [
    "import re #regex\n",
    "\n",
    "def clean_text(text):\n",
    "    if isinstance(text, str):  # Check if the input is a string\n",
    "        # Remove emojis\n",
    "        text = re.sub(r'[^\\w\\s]', '', text)  # Remove all special characters including emojis\n",
    "        text = text.strip()  # Trim whitespace from the start and end\n",
    "        return text  # Return the cleaned text\n",
    "    return text  # Return the original input if it's not a string\n",
    "\n",
    "# Apply the function to the DataFrame\n",
    "df['Reviews'] = df['Reviews'].apply(clean_text)\n",
    "\n",
    "# Check the output\n",
    "df.head(2)"
   ]
  },
  {
   "cell_type": "markdown",
   "id": "b0374371-506f-44c4-97e0-3baa73fff452",
   "metadata": {},
   "source": [
    "#To Remove The Stop Words :"
   ]
  },
  {
   "cell_type": "code",
   "execution_count": 11,
   "id": "b024e940-3a50-461d-8775-b73d2f1d3798",
   "metadata": {},
   "outputs": [
    {
     "name": "stderr",
     "output_type": "stream",
     "text": [
      "[nltk_data] Error loading stopwords: <urlopen error [Errno 11001]\n",
      "[nltk_data]     getaddrinfo failed>\n"
     ]
    },
    {
     "data": {
      "text/html": [
       "<div>\n",
       "<style scoped>\n",
       "    .dataframe tbody tr th:only-of-type {\n",
       "        vertical-align: middle;\n",
       "    }\n",
       "\n",
       "    .dataframe tbody tr th {\n",
       "        vertical-align: top;\n",
       "    }\n",
       "\n",
       "    .dataframe thead th {\n",
       "        text-align: right;\n",
       "    }\n",
       "</style>\n",
       "<table border=\"1\" class=\"dataframe\">\n",
       "  <thead>\n",
       "    <tr style=\"text-align: right;\">\n",
       "      <th></th>\n",
       "      <th>Names</th>\n",
       "      <th>Rating</th>\n",
       "      <th>Titles</th>\n",
       "      <th>Cities</th>\n",
       "      <th>Dates</th>\n",
       "      <th>Reviews</th>\n",
       "      <th>Likes</th>\n",
       "      <th>Dislikes</th>\n",
       "    </tr>\n",
       "  </thead>\n",
       "  <tbody>\n",
       "    <tr>\n",
       "      <th>0</th>\n",
       "      <td>Ajin V</td>\n",
       "      <td>5</td>\n",
       "      <td>Mind-blowing purchase</td>\n",
       "      <td>Balaghat</td>\n",
       "      <td>11 months ago</td>\n",
       "      <td>high quality camera</td>\n",
       "      <td>7431</td>\n",
       "      <td>1807</td>\n",
       "    </tr>\n",
       "    <tr>\n",
       "      <th>1</th>\n",
       "      <td>bijaya mohanty</td>\n",
       "      <td>5</td>\n",
       "      <td>Worth every penny</td>\n",
       "      <td>Baleshwar</td>\n",
       "      <td>4 months ago</td>\n",
       "      <td>go itamazing onebeautiful camera super fast pr...</td>\n",
       "      <td>1174</td>\n",
       "      <td>264</td>\n",
       "    </tr>\n",
       "  </tbody>\n",
       "</table>\n",
       "</div>"
      ],
      "text/plain": [
       "            Names  Rating                 Titles     Cities          Dates  \\\n",
       "0          Ajin V       5  Mind-blowing purchase   Balaghat  11 months ago   \n",
       "1  bijaya mohanty       5      Worth every penny  Baleshwar   4 months ago   \n",
       "\n",
       "                                             Reviews  Likes  Dislikes  \n",
       "0                                high quality camera   7431      1807  \n",
       "1  go itamazing onebeautiful camera super fast pr...   1174       264  "
      ]
     },
     "execution_count": 11,
     "metadata": {},
     "output_type": "execute_result"
    }
   ],
   "source": [
    "import nltk\n",
    "from nltk.corpus import stopwords\n",
    "nltk.download(\"stopwords\")\n",
    "\n",
    "\n",
    "stop_words=stopwords.words(\"english\")\n",
    "df['Reviews'] = df['Reviews'].apply(lambda txt: ' '.join([word for word in txt.split() if word.lower() not in stop_words]))\n",
    "df.head(2)"
   ]
  },
  {
   "cell_type": "markdown",
   "id": "b8056ed4-8cb6-438e-823f-03c9805150cd",
   "metadata": {},
   "source": [
    "#Lemmatization for Each Words"
   ]
  },
  {
   "cell_type": "code",
   "execution_count": 12,
   "id": "92114bb4-3030-4a16-8a71-2ead1ce63589",
   "metadata": {},
   "outputs": [
    {
     "name": "stderr",
     "output_type": "stream",
     "text": [
      "[nltk_data] Error loading punkt: <urlopen error [Errno 11001]\n",
      "[nltk_data]     getaddrinfo failed>\n",
      "[nltk_data] Error loading wordnet: <urlopen error [Errno 11001]\n",
      "[nltk_data]     getaddrinfo failed>\n"
     ]
    },
    {
     "name": "stdout",
     "output_type": "stream",
     "text": [
      "                                             Reviews  \\\n",
      "0                                high quality camera   \n",
      "1  go itamazing onebeautiful camera super fast pr...   \n",
      "\n",
      "                                  Lemmatized_Reviews  \n",
      "0                                high quality camera  \n",
      "1  go itamazing onebeautiful camera super fast pr...  \n"
     ]
    }
   ],
   "source": [
    "import pandas as pd\n",
    "import nltk\n",
    "from nltk.stem import WordNetLemmatizer\n",
    "from nltk.tokenize import word_tokenize\n",
    "\n",
    "# Download the WordNet and punkt resources\n",
    "nltk.download('punkt')\n",
    "nltk.download('wordnet')\n",
    "# Initialize the lemmatizer\n",
    "lemmatizer = WordNetLemmatizer()\n",
    "\n",
    "# Function to lemmatize text\n",
    "def lemmatize_text(text):\n",
    "    # Tokenize the text\n",
    "    words = word_tokenize(text)\n",
    "    # Lemmatize each word\n",
    "    lemmatized_words = [lemmatizer.lemmatize(word) for word in words]\n",
    "    # Join the words back into a single string\n",
    "    return ' '.join(lemmatized_words)\n",
    "df['Lemmatized_Reviews'] = df['Reviews'].apply(lemmatize_text)\n",
    "# Apply the stemming function to the 'Reviews' column\n",
    "\n",
    "# Display the updated DataFrame\n",
    "print(df[['Reviews', 'Lemmatized_Reviews']].head(2))"
   ]
  },
  {
   "cell_type": "markdown",
   "id": "8a59ca44-3a90-41ef-9b4e-9cb6ac557ca7",
   "metadata": {},
   "source": [
    "# SENTIMENT SCORES:"
   ]
  },
  {
   "cell_type": "code",
   "execution_count": 13,
   "id": "51b41ee6-a82d-45ae-a605-390d0964d144",
   "metadata": {},
   "outputs": [
    {
     "name": "stderr",
     "output_type": "stream",
     "text": [
      "[nltk_data] Error loading vader_lexicon: <urlopen error [Errno 11001]\n",
      "[nltk_data]     getaddrinfo failed>\n"
     ]
    }
   ],
   "source": [
    "import nltk\n",
    "from nltk.sentiment import SentimentIntensityAnalyzer\n",
    "nltk.download('vader_lexicon')\n",
    "sia=SentimentIntensityAnalyzer()\n",
    "def sentiment_score(txt):\n",
    "    return sia.polarity_scores(txt)\n",
    "df[\"Sentiment Scores\"]=df[\"Lemmatized_Reviews\"].apply(sentiment_score)"
   ]
  },
  {
   "cell_type": "markdown",
   "id": "b3001a44-ef36-4971-9c48-4c3ce19f1c87",
   "metadata": {},
   "source": [
    "#Extracting The Sentimental Scores To Individual Columns\n"
   ]
  },
  {
   "cell_type": "code",
   "execution_count": 14,
   "id": "fff2e4fb-4739-4118-b0fd-8f7e63e918a6",
   "metadata": {},
   "outputs": [
    {
     "data": {
      "text/html": [
       "<div>\n",
       "<style scoped>\n",
       "    .dataframe tbody tr th:only-of-type {\n",
       "        vertical-align: middle;\n",
       "    }\n",
       "\n",
       "    .dataframe tbody tr th {\n",
       "        vertical-align: top;\n",
       "    }\n",
       "\n",
       "    .dataframe thead th {\n",
       "        text-align: right;\n",
       "    }\n",
       "</style>\n",
       "<table border=\"1\" class=\"dataframe\">\n",
       "  <thead>\n",
       "    <tr style=\"text-align: right;\">\n",
       "      <th></th>\n",
       "      <th>Names</th>\n",
       "      <th>Rating</th>\n",
       "      <th>Titles</th>\n",
       "      <th>Cities</th>\n",
       "      <th>Dates</th>\n",
       "      <th>Reviews</th>\n",
       "      <th>Likes</th>\n",
       "      <th>Dislikes</th>\n",
       "      <th>Lemmatized_Reviews</th>\n",
       "      <th>Sentiment Scores</th>\n",
       "      <th>Negative</th>\n",
       "      <th>Positive</th>\n",
       "      <th>Neutral</th>\n",
       "      <th>Compounds</th>\n",
       "    </tr>\n",
       "  </thead>\n",
       "  <tbody>\n",
       "    <tr>\n",
       "      <th>0</th>\n",
       "      <td>Ajin V</td>\n",
       "      <td>5</td>\n",
       "      <td>Mind-blowing purchase</td>\n",
       "      <td>Balaghat</td>\n",
       "      <td>11 months ago</td>\n",
       "      <td>high quality camera</td>\n",
       "      <td>7431</td>\n",
       "      <td>1807</td>\n",
       "      <td>high quality camera</td>\n",
       "      <td>{'neg': 0.0, 'neu': 1.0, 'pos': 0.0, 'compound...</td>\n",
       "      <td>0.0</td>\n",
       "      <td>0.000</td>\n",
       "      <td>1.000</td>\n",
       "      <td>0.0000</td>\n",
       "    </tr>\n",
       "    <tr>\n",
       "      <th>1</th>\n",
       "      <td>bijaya mohanty</td>\n",
       "      <td>5</td>\n",
       "      <td>Worth every penny</td>\n",
       "      <td>Baleshwar</td>\n",
       "      <td>4 months ago</td>\n",
       "      <td>go itamazing onebeautiful camera super fast pr...</td>\n",
       "      <td>1174</td>\n",
       "      <td>264</td>\n",
       "      <td>go itamazing onebeautiful camera super fast pr...</td>\n",
       "      <td>{'neg': 0.0, 'neu': 0.606, 'pos': 0.394, 'comp...</td>\n",
       "      <td>0.0</td>\n",
       "      <td>0.394</td>\n",
       "      <td>0.606</td>\n",
       "      <td>0.5994</td>\n",
       "    </tr>\n",
       "  </tbody>\n",
       "</table>\n",
       "</div>"
      ],
      "text/plain": [
       "            Names  Rating                 Titles     Cities          Dates  \\\n",
       "0          Ajin V       5  Mind-blowing purchase   Balaghat  11 months ago   \n",
       "1  bijaya mohanty       5      Worth every penny  Baleshwar   4 months ago   \n",
       "\n",
       "                                             Reviews  Likes  Dislikes  \\\n",
       "0                                high quality camera   7431      1807   \n",
       "1  go itamazing onebeautiful camera super fast pr...   1174       264   \n",
       "\n",
       "                                  Lemmatized_Reviews  \\\n",
       "0                                high quality camera   \n",
       "1  go itamazing onebeautiful camera super fast pr...   \n",
       "\n",
       "                                    Sentiment Scores  Negative  Positive  \\\n",
       "0  {'neg': 0.0, 'neu': 1.0, 'pos': 0.0, 'compound...       0.0     0.000   \n",
       "1  {'neg': 0.0, 'neu': 0.606, 'pos': 0.394, 'comp...       0.0     0.394   \n",
       "\n",
       "   Neutral  Compounds  \n",
       "0    1.000     0.0000  \n",
       "1    0.606     0.5994  "
      ]
     },
     "execution_count": 14,
     "metadata": {},
     "output_type": "execute_result"
    }
   ],
   "source": [
    "df[\"Negative\"] = df[\"Sentiment Scores\"].apply(lambda x: x['neg'])\n",
    "df[\"Positive\"] = df[\"Sentiment Scores\"].apply(lambda x: x['pos'])\n",
    "df[\"Neutral\"] = df[\"Sentiment Scores\"].apply(lambda x: x['neu'])\n",
    "df[\"Compounds\"] = df[\"Sentiment Scores\"].apply(lambda x: x['compound'])\n",
    "df.head(2)"
   ]
  },
  {
   "cell_type": "markdown",
   "id": "d1fc65e2-c1e1-4001-8671-be25fa1a4c7a",
   "metadata": {},
   "source": [
    "# VISUALIZATION:"
   ]
  },
  {
   "cell_type": "markdown",
   "id": "269600ab-cc91-4bd7-ba16-f1fb8725fe2b",
   "metadata": {},
   "source": [
    "#BAR CHART FOR SENTIMENT SCORE:\n"
   ]
  },
  {
   "cell_type": "code",
   "execution_count": 23,
   "id": "bd95b396-dd40-495f-b29d-a0fc7d6dc3ba",
   "metadata": {},
   "outputs": [
    {
     "data": {
      "image/png": "[encoded data removed]",
      "text/plain": [
       "<Figure size 1000x600 with 1 Axes>"
      ]
     },
     "metadata": {},
     "output_type": "display_data"
    }
   ],
   "source": [
    "\n",
    "import matplotlib.pyplot as plt #for visualization\n",
    "\n",
    "# Calculate average sentiment scores\n",
    "avg_scores = df[['Negative', 'Positive', 'Neutral', 'Compounds']].mean()\n",
    "\n",
    "# Create a bar chart\n",
    "plt.figure(figsize=(10, 6))\n",
    "avg_scores.plot(kind='bar', color=['red', 'green', 'blue', 'purple'])\n",
    "plt.title('Average Sentiment Scores')\n",
    "plt.ylabel('Average Score')\n",
    "plt.xlabel('Sentiment Type')\n",
    "plt.xticks(rotation=45)\n",
    "plt.ylim(0, 1)  # Since scores range from 0 to 1\n",
    "plt.grid(axis='y',color='grey')\n",
    "plt.show()\n"
   ]
  },
  {
   "cell_type": "markdown",
   "id": "71d42161-848c-48e9-9eb3-24faff075a71",
   "metadata": {},
   "source": [
    "#HISTPLOT FOR RATING:"
   ]
  },
  {
   "cell_type": "code",
   "execution_count": 19,
   "id": "1b183df7-ca90-4d9f-805a-ab98994bdb8b",
   "metadata": {},
   "outputs": [
    {
     "data": {
      "text/plain": [
       "Text(0, 0.5, 'Frequency')"
      ]
     },
     "execution_count": 19,
     "metadata": {},
     "output_type": "execute_result"
    },
    {
     "data": {
      "image/png": "[encoded data removed]",
      "text/plain": [
       "<Figure size 1000x600 with 1 Axes>"
      ]
     },
     "metadata": {},
     "output_type": "display_data"
    }
   ],
   "source": [
    "import pandas as pd\n",
    "import seaborn as sns\n",
    "import matplotlib.pyplot as plt\n",
    "plt.figure(figsize=(10, 6))\n",
    "sns.histplot(df['Rating'], bins=5, kde=True)\n",
    "plt.title('Distribution of Ratings')\n",
    "plt.xlabel('Rating')\n",
    "plt.ylabel('Frequency')"
   ]
  },
  {
   "cell_type": "code",
   "execution_count": null,
   "id": "58137568-9fb3-4c4c-893a-bac95f7a84f2",
   "metadata": {},
   "outputs": [],
   "source": []
  }
 ],
 "metadata": {
  "kernelspec": {
   "display_name": "Python 3 (ipykernel)",
   "language": "python",
   "name": "python3"
  },
  "language_info": {
   "codemirror_mode": {
    "name": "ipython",
    "version": 3
   },
   "file_extension": ".py",
   "mimetype": "text/x-python",
   "name": "python",
   "nbconvert_exporter": "python",
   "pygments_lexer": "ipython3",
   "version": "3.12.4"
  }
 },
 "nbformat": 4,
 "nbformat_minor": 5
}
